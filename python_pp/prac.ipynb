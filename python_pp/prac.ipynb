{
 "cells": [
  {
   "cell_type": "code",
   "execution_count": null,
   "metadata": {},
   "outputs": [],
   "source": [
    "name = [\"Ali\", \"abdullah\", \"sulman\"]\n",
    "if \"Ali\" in name:\n",
    "    print(f\"Ali inside the name list\")\n",
    "else:\n",
    "    print(f\"Ali is not inside the name list\")"
   ]
  }
 ],
 "metadata": {
  "language_info": {
   "name": "python"
  }
 },
 "nbformat": 4,
 "nbformat_minor": 2
}
